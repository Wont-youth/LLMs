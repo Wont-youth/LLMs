{
  "cells": [
    {
      "cell_type": "code",
      "source": [
        "from datasets import load_dataset\n",
        "from transformers import AutoTokenizer, AutoModelForSeq2SeqLM\n",
        "from transformers import GenerationConfig, TrainingArguments, Trainer\n",
        "\n",
        "import torch\n",
        "import time\n",
        "\n",
        "import evaluate\n",
        "\n",
        "import numpy as np\n",
        "import pandas as pd"
      ],
      "metadata": {
        "id": "XpJVaioE5EiM"
      },
      "id": "XpJVaioE5EiM",
      "execution_count": null,
      "outputs": []
    },
    {
      "cell_type": "code",
      "execution_count": 30,
      "id": "ddad41aa",
      "metadata": {
        "id": "ddad41aa",
        "colab": {
          "base_uri": "https://localhost:8080/"
        },
        "outputId": "4a6d2c21-2b2b-4dc9-d211-cf471ec4279c"
      },
      "outputs": [
        {
          "output_type": "execute_result",
          "data": {
            "text/plain": [
              "DatasetDict({\n",
              "    train: Dataset({\n",
              "        features: ['id', 'title', 'context', 'question', 'answers'],\n",
              "        num_rows: 87599\n",
              "    })\n",
              "    validation: Dataset({\n",
              "        features: ['id', 'title', 'context', 'question', 'answers'],\n",
              "        num_rows: 10570\n",
              "    })\n",
              "})"
            ]
          },
          "metadata": {},
          "execution_count": 30
        }
      ],
      "source": [
        "huggingface_dataset_name = \"squad\"\n",
        "dataset = load_dataset(huggingface_dataset_name)\n",
        "dataset"
      ]
    },
    {
      "cell_type": "code",
      "source": [
        "example_indices = [40, 200]\n",
        "\n",
        "dash_line = '-'.join('' for x in range(100))\n",
        "\n",
        "for i, index in enumerate(example_indices):\n",
        "    print(dash_line)\n",
        "    print(f\"Example {i + 1}\")\n",
        "\n",
        "    print(dash_line)\n",
        "    print(f\"context: \\n{dataset['train'][index]['context']}\")\n",
        "    print(f\"question: \\n{dataset['train'][index]['question']}\")\n",
        "    print(f\"answers: \\n{dataset['train'][index]['answers']['text'][0]}\")\n"
      ],
      "metadata": {
        "colab": {
          "base_uri": "https://localhost:8080/"
        },
        "id": "cyha2VPN5Sp_",
        "outputId": "56016afb-a32c-45b4-a48e-69cd86ba741d"
      },
      "id": "cyha2VPN5Sp_",
      "execution_count": 31,
      "outputs": [
        {
          "output_type": "stream",
          "name": "stdout",
          "text": [
            "---------------------------------------------------------------------------------------------------\n",
            "Example 1\n",
            "---------------------------------------------------------------------------------------------------\n",
            "context: \n",
            "Notre Dame is known for its competitive admissions, with the incoming class enrolling in fall 2015 admitting 3,577 from a pool of 18,156 (19.7%). The academic profile of the enrolled class continues to rate among the top 10 to 15 in the nation for national research universities. The university practices a non-restrictive early action policy that allows admitted students to consider admission to Notre Dame as well as any other colleges to which they were accepted. 1,400 of the 3,577 (39.1%) were admitted under the early action plan. Admitted students came from 1,311 high schools and the average student traveled more than 750 miles to Notre Dame, making it arguably the most representative university in the United States. While all entering students begin in the College of the First Year of Studies, 25% have indicated they plan to study in the liberal arts or social sciences, 24% in engineering, 24% in business, 24% in science, and 3% in architecture.\n",
            "question: \n",
            "What percentage of students were admitted to Notre Dame in fall 2015?\n",
            "answers: \n",
            "19.7%\n",
            "---------------------------------------------------------------------------------------------------\n",
            "Example 2\n",
            "---------------------------------------------------------------------------------------------------\n",
            "context: \n",
            "In 1842, the Bishop of Vincennes, Célestine Guynemer de la Hailandière, offered land to Father Edward Sorin of the Congregation of the Holy Cross, on the condition that he build a college in two years. Fr. Sorin arrived on the site with eight Holy Cross brothers from France and Ireland on November 26, 1842, and began the school using Father Stephen Badin's old log chapel. He soon erected additional buildings, including Old College, the first church, and the first main building. They immediately acquired two students and set about building additions to the campus.\n",
            "question: \n",
            "In what year was Father Edward Sorin given two years to create a college?\n",
            "answers: \n",
            "1842\n"
          ]
        }
      ]
    },
    {
      "cell_type": "code",
      "execution_count": 32,
      "id": "7908a619",
      "metadata": {
        "colab": {
          "base_uri": "https://localhost:8080/"
        },
        "id": "7908a619",
        "outputId": "24f47acc-ce92-4e6d-ab0b-81622fb71988"
      },
      "outputs": [
        {
          "output_type": "stream",
          "name": "stderr",
          "text": [
            "/usr/local/lib/python3.10/dist-packages/huggingface_hub/file_download.py:1132: FutureWarning: `resume_download` is deprecated and will be removed in version 1.0.0. Downloads always resume when possible. If you want to force a new download, use `force_download=True`.\n",
            "  warnings.warn(\n"
          ]
        }
      ],
      "source": [
        "model_name = \"google-t5/t5-base\"\n",
        "original_model = AutoModelForSeq2SeqLM.from_pretrained(model_name, torch_dtype=torch.bfloat16)\n",
        "tokenizer = AutoTokenizer.from_pretrained(model_name)"
      ]
    },
    {
      "cell_type": "markdown",
      "source": [
        "### 零样本微调"
      ],
      "metadata": {
        "id": "LcmHR_2754cH"
      },
      "id": "LcmHR_2754cH"
    },
    {
      "cell_type": "code",
      "execution_count": 33,
      "id": "29ee8ca8",
      "metadata": {
        "colab": {
          "base_uri": "https://localhost:8080/"
        },
        "id": "29ee8ca8",
        "outputId": "2f575a8b-a62d-4c81-fa2a-9167b8d5e14a"
      },
      "outputs": [
        {
          "output_type": "stream",
          "name": "stdout",
          "text": [
            "---------------------------------------------------------------------------------------------------\n",
            "Example 1\n",
            "context: \n",
            "Notre Dame is known for its competitive admissions, with the incoming class enrolling in fall 2015 admitting 3,577 from a pool of 18,156 (19.7%). The academic profile of the enrolled class continues to rate among the top 10 to 15 in the nation for national research universities. The university practices a non-restrictive early action policy that allows admitted students to consider admission to Notre Dame as well as any other colleges to which they were accepted. 1,400 of the 3,577 (39.1%) were admitted under the early action plan. Admitted students came from 1,311 high schools and the average student traveled more than 750 miles to Notre Dame, making it arguably the most representative university in the United States. While all entering students begin in the College of the First Year of Studies, 25% have indicated they plan to study in the liberal arts or social sciences, 24% in engineering, 24% in business, 24% in science, and 3% in architecture.\n",
            "question: \n",
            "What percentage of students were admitted to Notre Dame in fall 2015?\n",
            "answer: \n",
            "19.7%\n",
            "Generated question: \n",
            "True\n",
            "---------------------------------------------------------------------------------------------------\n",
            "Example 2\n",
            "context: \n",
            "In 1842, the Bishop of Vincennes, Célestine Guynemer de la Hailandière, offered land to Father Edward Sorin of the Congregation of the Holy Cross, on the condition that he build a college in two years. Fr. Sorin arrived on the site with eight Holy Cross brothers from France and Ireland on November 26, 1842, and began the school using Father Stephen Badin's old log chapel. He soon erected additional buildings, including Old College, the first church, and the first main building. They immediately acquired two students and set about building additions to the campus.\n",
            "question: \n",
            "In what year was Father Edward Sorin given two years to create a college?\n",
            "answer: \n",
            "1842\n",
            "Generated question: \n",
            "True\n"
          ]
        }
      ],
      "source": [
        "for i, index in enumerate(example_indices):\n",
        "    context = dataset['train'][index]['context']\n",
        "    question = dataset['train'][index]['question']\n",
        "    answer = dataset['train'][index]['answers']['text'][0]\n",
        "\n",
        "    prompt = f\"Given the following context and an certain answer, please generate a certain question from the context and answer:\\n \\Context: {context} \\n \\Answer: {answer}.\\n Question:\"\n",
        "\n",
        "    inputs = tokenizer(prompt, return_tensors=\"pt\")\n",
        "    outputs = tokenizer.decode(original_model.generate(inputs[\"input_ids\"], max_new_tokens=50)[0], skip_special_tokens=True)\n",
        "\n",
        "    print(dash_line)\n",
        "    print(f\"Example {i+1}\")\n",
        "    print(f\"context: \\n{context}\")\n",
        "    print(f\"question: \\n{question}\")\n",
        "    print(f\"answer: \\n{answer}\")\n",
        "    print(f\"Generated question: \\n{outputs}\")"
      ]
    },
    {
      "cell_type": "markdown",
      "source": [
        "### 少样本微调"
      ],
      "metadata": {
        "id": "SPTWStSc8FYR"
      },
      "id": "SPTWStSc8FYR"
    },
    {
      "cell_type": "code",
      "source": [
        "def make_prompt(example_indices_full, example_index_to_questions):\n",
        "    prompt = \"\"\n",
        "\n",
        "    for index in example_indices_full:\n",
        "        context = dataset['train'][index]['context']\n",
        "        question = dataset['train'][index]['question']\n",
        "        answer = dataset['train'][index]['answers']['text'][0]\n",
        "        prompt += f\"Given the following context and an certain answer, please generate a certain question from the context and answer:\\n Context: {context} \\n Answer: {answer} \\n Question: {question}\\n\\n\"\n",
        "    context = dataset['train'][example_index_to_questions]['context']\n",
        "    question = dataset['train'][example_index_to_questions]['question']\n",
        "    answer = dataset['train'][example_index_to_questions]['answers']['text'][0]\n",
        "    prompt += f\"Given the following context and an certain answer, please generate a certain question from the context and answer:\\n Context: {context} \\n Answer: {answer}.\\n Question:\"\n",
        "    return prompt\n",
        "\n",
        "example_indices_full = [0, 1, 2, 3, 4, 5, 6, 7, 8, 9]\n",
        "example_index_to_questions = 10\n",
        "few_shot_prompt = make_prompt(example_indices_full, example_index_to_questions)\n",
        "print(few_shot_prompt)"
      ],
      "metadata": {
        "colab": {
          "base_uri": "https://localhost:8080/"
        },
        "id": "vmTcpImv7edM",
        "outputId": "6480993d-7ff8-4ae4-9668-4e5d4d9ba2c6"
      },
      "id": "vmTcpImv7edM",
      "execution_count": 34,
      "outputs": [
        {
          "output_type": "stream",
          "name": "stdout",
          "text": [
            "Given the following context and an certain answer, please generate a certain question from the context and answer:\n",
            " Context: Architecturally, the school has a Catholic character. Atop the Main Building's gold dome is a golden statue of the Virgin Mary. Immediately in front of the Main Building and facing it, is a copper statue of Christ with arms upraised with the legend \"Venite Ad Me Omnes\". Next to the Main Building is the Basilica of the Sacred Heart. Immediately behind the basilica is the Grotto, a Marian place of prayer and reflection. It is a replica of the grotto at Lourdes, France where the Virgin Mary reputedly appeared to Saint Bernadette Soubirous in 1858. At the end of the main drive (and in a direct line that connects through 3 statues and the Gold Dome), is a simple, modern stone statue of Mary. \n",
            " Answer: Saint Bernadette Soubirous \n",
            " Question: To whom did the Virgin Mary allegedly appear in 1858 in Lourdes France?\n",
            "\n",
            "Given the following context and an certain answer, please generate a certain question from the context and answer:\n",
            " Context: Architecturally, the school has a Catholic character. Atop the Main Building's gold dome is a golden statue of the Virgin Mary. Immediately in front of the Main Building and facing it, is a copper statue of Christ with arms upraised with the legend \"Venite Ad Me Omnes\". Next to the Main Building is the Basilica of the Sacred Heart. Immediately behind the basilica is the Grotto, a Marian place of prayer and reflection. It is a replica of the grotto at Lourdes, France where the Virgin Mary reputedly appeared to Saint Bernadette Soubirous in 1858. At the end of the main drive (and in a direct line that connects through 3 statues and the Gold Dome), is a simple, modern stone statue of Mary. \n",
            " Answer: a copper statue of Christ \n",
            " Question: What is in front of the Notre Dame Main Building?\n",
            "\n",
            "Given the following context and an certain answer, please generate a certain question from the context and answer:\n",
            " Context: Architecturally, the school has a Catholic character. Atop the Main Building's gold dome is a golden statue of the Virgin Mary. Immediately in front of the Main Building and facing it, is a copper statue of Christ with arms upraised with the legend \"Venite Ad Me Omnes\". Next to the Main Building is the Basilica of the Sacred Heart. Immediately behind the basilica is the Grotto, a Marian place of prayer and reflection. It is a replica of the grotto at Lourdes, France where the Virgin Mary reputedly appeared to Saint Bernadette Soubirous in 1858. At the end of the main drive (and in a direct line that connects through 3 statues and the Gold Dome), is a simple, modern stone statue of Mary. \n",
            " Answer: the Main Building \n",
            " Question: The Basilica of the Sacred heart at Notre Dame is beside to which structure?\n",
            "\n",
            "Given the following context and an certain answer, please generate a certain question from the context and answer:\n",
            " Context: Architecturally, the school has a Catholic character. Atop the Main Building's gold dome is a golden statue of the Virgin Mary. Immediately in front of the Main Building and facing it, is a copper statue of Christ with arms upraised with the legend \"Venite Ad Me Omnes\". Next to the Main Building is the Basilica of the Sacred Heart. Immediately behind the basilica is the Grotto, a Marian place of prayer and reflection. It is a replica of the grotto at Lourdes, France where the Virgin Mary reputedly appeared to Saint Bernadette Soubirous in 1858. At the end of the main drive (and in a direct line that connects through 3 statues and the Gold Dome), is a simple, modern stone statue of Mary. \n",
            " Answer: a Marian place of prayer and reflection \n",
            " Question: What is the Grotto at Notre Dame?\n",
            "\n",
            "Given the following context and an certain answer, please generate a certain question from the context and answer:\n",
            " Context: Architecturally, the school has a Catholic character. Atop the Main Building's gold dome is a golden statue of the Virgin Mary. Immediately in front of the Main Building and facing it, is a copper statue of Christ with arms upraised with the legend \"Venite Ad Me Omnes\". Next to the Main Building is the Basilica of the Sacred Heart. Immediately behind the basilica is the Grotto, a Marian place of prayer and reflection. It is a replica of the grotto at Lourdes, France where the Virgin Mary reputedly appeared to Saint Bernadette Soubirous in 1858. At the end of the main drive (and in a direct line that connects through 3 statues and the Gold Dome), is a simple, modern stone statue of Mary. \n",
            " Answer: a golden statue of the Virgin Mary \n",
            " Question: What sits on top of the Main Building at Notre Dame?\n",
            "\n",
            "Given the following context and an certain answer, please generate a certain question from the context and answer:\n",
            " Context: As at most other universities, Notre Dame's students run a number of news media outlets. The nine student-run outlets include three newspapers, both a radio and television station, and several magazines and journals. Begun as a one-page journal in September 1876, the Scholastic magazine is issued twice monthly and claims to be the oldest continuous collegiate publication in the United States. The other magazine, The Juggler, is released twice a year and focuses on student literature and artwork. The Dome yearbook is published annually. The newspapers have varying publication interests, with The Observer published daily and mainly reporting university and other news, and staffed by students from both Notre Dame and Saint Mary's College. Unlike Scholastic and The Dome, The Observer is an independent publication and does not have a faculty advisor or any editorial oversight from the University. In 1987, when some students believed that The Observer began to show a conservative bias, a liberal newspaper, Common Sense was published. Likewise, in 2003, when other students believed that the paper showed a liberal bias, the conservative paper Irish Rover went into production. Neither paper is published as often as The Observer; however, all three are distributed to all students. Finally, in Spring 2008 an undergraduate journal for political science research, Beyond Politics, made its debut. \n",
            " Answer: September 1876 \n",
            " Question: When did the Scholastic Magazine of Notre dame begin publishing?\n",
            "\n",
            "Given the following context and an certain answer, please generate a certain question from the context and answer:\n",
            " Context: As at most other universities, Notre Dame's students run a number of news media outlets. The nine student-run outlets include three newspapers, both a radio and television station, and several magazines and journals. Begun as a one-page journal in September 1876, the Scholastic magazine is issued twice monthly and claims to be the oldest continuous collegiate publication in the United States. The other magazine, The Juggler, is released twice a year and focuses on student literature and artwork. The Dome yearbook is published annually. The newspapers have varying publication interests, with The Observer published daily and mainly reporting university and other news, and staffed by students from both Notre Dame and Saint Mary's College. Unlike Scholastic and The Dome, The Observer is an independent publication and does not have a faculty advisor or any editorial oversight from the University. In 1987, when some students believed that The Observer began to show a conservative bias, a liberal newspaper, Common Sense was published. Likewise, in 2003, when other students believed that the paper showed a liberal bias, the conservative paper Irish Rover went into production. Neither paper is published as often as The Observer; however, all three are distributed to all students. Finally, in Spring 2008 an undergraduate journal for political science research, Beyond Politics, made its debut. \n",
            " Answer: twice \n",
            " Question: How often is Notre Dame's the Juggler published?\n",
            "\n",
            "Given the following context and an certain answer, please generate a certain question from the context and answer:\n",
            " Context: As at most other universities, Notre Dame's students run a number of news media outlets. The nine student-run outlets include three newspapers, both a radio and television station, and several magazines and journals. Begun as a one-page journal in September 1876, the Scholastic magazine is issued twice monthly and claims to be the oldest continuous collegiate publication in the United States. The other magazine, The Juggler, is released twice a year and focuses on student literature and artwork. The Dome yearbook is published annually. The newspapers have varying publication interests, with The Observer published daily and mainly reporting university and other news, and staffed by students from both Notre Dame and Saint Mary's College. Unlike Scholastic and The Dome, The Observer is an independent publication and does not have a faculty advisor or any editorial oversight from the University. In 1987, when some students believed that The Observer began to show a conservative bias, a liberal newspaper, Common Sense was published. Likewise, in 2003, when other students believed that the paper showed a liberal bias, the conservative paper Irish Rover went into production. Neither paper is published as often as The Observer; however, all three are distributed to all students. Finally, in Spring 2008 an undergraduate journal for political science research, Beyond Politics, made its debut. \n",
            " Answer: The Observer \n",
            " Question: What is the daily student paper at Notre Dame called?\n",
            "\n",
            "Given the following context and an certain answer, please generate a certain question from the context and answer:\n",
            " Context: As at most other universities, Notre Dame's students run a number of news media outlets. The nine student-run outlets include three newspapers, both a radio and television station, and several magazines and journals. Begun as a one-page journal in September 1876, the Scholastic magazine is issued twice monthly and claims to be the oldest continuous collegiate publication in the United States. The other magazine, The Juggler, is released twice a year and focuses on student literature and artwork. The Dome yearbook is published annually. The newspapers have varying publication interests, with The Observer published daily and mainly reporting university and other news, and staffed by students from both Notre Dame and Saint Mary's College. Unlike Scholastic and The Dome, The Observer is an independent publication and does not have a faculty advisor or any editorial oversight from the University. In 1987, when some students believed that The Observer began to show a conservative bias, a liberal newspaper, Common Sense was published. Likewise, in 2003, when other students believed that the paper showed a liberal bias, the conservative paper Irish Rover went into production. Neither paper is published as often as The Observer; however, all three are distributed to all students. Finally, in Spring 2008 an undergraduate journal for political science research, Beyond Politics, made its debut. \n",
            " Answer: three \n",
            " Question: How many student news papers are found at Notre Dame?\n",
            "\n",
            "Given the following context and an certain answer, please generate a certain question from the context and answer:\n",
            " Context: As at most other universities, Notre Dame's students run a number of news media outlets. The nine student-run outlets include three newspapers, both a radio and television station, and several magazines and journals. Begun as a one-page journal in September 1876, the Scholastic magazine is issued twice monthly and claims to be the oldest continuous collegiate publication in the United States. The other magazine, The Juggler, is released twice a year and focuses on student literature and artwork. The Dome yearbook is published annually. The newspapers have varying publication interests, with The Observer published daily and mainly reporting university and other news, and staffed by students from both Notre Dame and Saint Mary's College. Unlike Scholastic and The Dome, The Observer is an independent publication and does not have a faculty advisor or any editorial oversight from the University. In 1987, when some students believed that The Observer began to show a conservative bias, a liberal newspaper, Common Sense was published. Likewise, in 2003, when other students believed that the paper showed a liberal bias, the conservative paper Irish Rover went into production. Neither paper is published as often as The Observer; however, all three are distributed to all students. Finally, in Spring 2008 an undergraduate journal for political science research, Beyond Politics, made its debut. \n",
            " Answer: 1987 \n",
            " Question: In what year did the student paper Common Sense begin publication at Notre Dame?\n",
            "\n",
            "Given the following context and an certain answer, please generate a certain question from the context and answer:\n",
            " Context: The university is the major seat of the Congregation of Holy Cross (albeit not its official headquarters, which are in Rome). Its main seminary, Moreau Seminary, is located on the campus across St. Joseph lake from the Main Building. Old College, the oldest building on campus and located near the shore of St. Mary lake, houses undergraduate seminarians. Retired priests and brothers reside in Fatima House (a former retreat center), Holy Cross House, as well as Columba Hall near the Grotto. The university through the Moreau Seminary has ties to theologian Frederick Buechner. While not Catholic, Buechner has praised writers from Notre Dame and Moreau Seminary created a Buechner Prize for Preaching. \n",
            " Answer: Rome.\n",
            " Question:\n"
          ]
        }
      ]
    },
    {
      "cell_type": "code",
      "source": [
        "context = dataset['train'][example_index_to_questions]['context']\n",
        "question = dataset['train'][example_index_to_questions]['question']\n",
        "answer = dataset['train'][example_index_to_questions]['answers']['text'][0]\n",
        "\n",
        "inputs = tokenizer(few_shot_prompt, return_tensors=\"pt\")\n",
        "outputs = tokenizer.decode(original_model.generate(inputs[\"input_ids\"], max_new_tokens=50)[0], skip_special_tokens=True)\n",
        "\n",
        "print(dash_line)\n",
        "print(f\"context: \\n{context}\")\n",
        "print(f\"question: \\n{question}\")\n",
        "print(f\"answer: \\n{answer}\")\n",
        "print(f\"Generated question: \\n{outputs}\")"
      ],
      "metadata": {
        "colab": {
          "base_uri": "https://localhost:8080/"
        },
        "id": "8NU_sALC94Z5",
        "outputId": "b017ee0e-d502-4135-8c06-ae71b9a522bc"
      },
      "id": "8NU_sALC94Z5",
      "execution_count": 35,
      "outputs": [
        {
          "output_type": "stream",
          "name": "stdout",
          "text": [
            "---------------------------------------------------------------------------------------------------\n",
            "context: \n",
            "The university is the major seat of the Congregation of Holy Cross (albeit not its official headquarters, which are in Rome). Its main seminary, Moreau Seminary, is located on the campus across St. Joseph lake from the Main Building. Old College, the oldest building on campus and located near the shore of St. Mary lake, houses undergraduate seminarians. Retired priests and brothers reside in Fatima House (a former retreat center), Holy Cross House, as well as Columba Hall near the Grotto. The university through the Moreau Seminary has ties to theologian Frederick Buechner. While not Catholic, Buechner has praised writers from Notre Dame and Moreau Seminary created a Buechner Prize for Preaching.\n",
            "question: \n",
            "Where is the headquarters of the Congregation of the Holy Cross?\n",
            "answer: \n",
            "Rome\n",
            "Generated question: \n",
            "True\n"
          ]
        }
      ]
    },
    {
      "cell_type": "code",
      "source": [],
      "metadata": {
        "id": "aFYFMbLd94cS"
      },
      "id": "aFYFMbLd94cS",
      "execution_count": null,
      "outputs": []
    },
    {
      "cell_type": "code",
      "source": [],
      "metadata": {
        "id": "w_3BPhLxAXfQ"
      },
      "id": "w_3BPhLxAXfQ",
      "execution_count": null,
      "outputs": []
    },
    {
      "cell_type": "code",
      "source": [],
      "metadata": {
        "id": "Rbfv_ib0-ru3"
      },
      "id": "Rbfv_ib0-ru3",
      "execution_count": null,
      "outputs": []
    },
    {
      "cell_type": "code",
      "source": [],
      "metadata": {
        "id": "8PZxAnqc-rxI"
      },
      "id": "8PZxAnqc-rxI",
      "execution_count": null,
      "outputs": []
    }
  ],
  "metadata": {
    "accelerator": "GPU",
    "colab": {
      "gpuType": "T4",
      "provenance": []
    },
    "kernelspec": {
      "display_name": "Python 3",
      "name": "python3"
    },
    "language_info": {
      "codemirror_mode": {
        "name": "ipython",
        "version": 3
      },
      "file_extension": ".py",
      "mimetype": "text/x-python",
      "name": "python",
      "nbconvert_exporter": "python",
      "pygments_lexer": "ipython3",
      "version": "3.9.12"
    }
  },
  "nbformat": 4,
  "nbformat_minor": 5
}