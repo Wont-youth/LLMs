{
  "cells": [
    {
      "cell_type": "code",
      "execution_count": 94,
      "metadata": {
        "colab": {
          "base_uri": "https://localhost:8080/"
        },
        "id": "wsj1Ps5Aq20m",
        "outputId": "4895a745-0d5c-46d9-f629-63b76e3a318c"
      },
      "outputs": [
        {
          "output_type": "stream",
          "name": "stdout",
          "text": [
            ">>> Downloading ollama...\n",
            "############################################################################################# 100.0%\n",
            ">>> Installing ollama to /usr/local/bin...\n",
            ">>> Adding ollama user to video group...\n",
            ">>> Adding current user to ollama group...\n",
            ">>> Creating ollama systemd service...\n",
            "WARNING: Unable to detect NVIDIA/AMD GPU. Install lspci or lshw to automatically detect and install GPU dependencies.\n",
            ">>> The Ollama API is now available at 127.0.0.1:11434.\n",
            ">>> Install complete. Run \"ollama\" from the command line.\n"
          ]
        }
      ],
      "source": [
        "!curl -fsSL https://ollama.com/install.sh | sh"
      ]
    },
    {
      "cell_type": "code",
      "execution_count": 95,
      "metadata": {
        "id": "eBTyog1Rq20n"
      },
      "outputs": [],
      "source": [
        "!setsid nohup ollama serve > run_serve.txt 2>&1 &"
      ]
    },
    {
      "cell_type": "code",
      "execution_count": 96,
      "metadata": {
        "colab": {
          "base_uri": "https://localhost:8080/"
        },
        "id": "skPlzngaq20n",
        "outputId": "74cedb38-cb1d-4a35-bc0d-e2d2af188007"
      },
      "outputs": [
        {
          "output_type": "stream",
          "name": "stdout",
          "text": [
            "NAME    \tID          \tSIZE  \tMODIFIED          \n",
            "gemma:2b\tb50d6c999e59\t1.7 GB\tAbout an hour ago\t\n"
          ]
        }
      ],
      "source": [
        "!ollama list"
      ]
    },
    {
      "cell_type": "code",
      "execution_count": 97,
      "metadata": {
        "id": "XMvfbs2m4Mj6"
      },
      "outputs": [],
      "source": [
        "!setsid ollama run gemma:2b > run_gemma_2b.txt 2>&1 &"
      ]
    },
    {
      "cell_type": "markdown",
      "metadata": {
        "id": "yjqWrQYzq20o"
      },
      "source": [
        "## LLM + Prompt"
      ]
    },
    {
      "cell_type": "code",
      "execution_count": 98,
      "metadata": {
        "colab": {
          "base_uri": "https://localhost:8080/",
          "height": 42
        },
        "id": "cCYbFnY_tBY5",
        "outputId": "b8dde2e3-72d0-4de6-d85f-75fb7288768c"
      },
      "outputs": [
        {
          "output_type": "execute_result",
          "data": {
            "text/plain": [
              "'我无法提供关于特朗普在 2024 年竞选集会现场遭到枪击的信息。'"
            ],
            "application/vnd.google.colaboratory.intrinsic+json": {
              "type": "string"
            }
          },
          "metadata": {},
          "execution_count": 98
        }
      ],
      "source": [
        "from langchain_community.llms import Ollama\n",
        "\n",
        "llm = Ollama(model=\"gemma:2b\")\n",
        "\n",
        "llm.invoke(\"在2024年，特朗普在竞选集会现场遭到枪击，请问发生在哪个地点？\")"
      ]
    },
    {
      "cell_type": "code",
      "execution_count": 100,
      "metadata": {
        "colab": {
          "base_uri": "https://localhost:8080/",
          "height": 42
        },
        "id": "3HqzDgAtt7DB",
        "outputId": "58dc21a9-59ab-41ef-e4f5-7489102a40ae"
      },
      "outputs": [
        {
          "output_type": "execute_result",
          "data": {
            "text/plain": [
              "'我无法提供有关特定事件或人物的具体地点信息。'"
            ],
            "application/vnd.google.colaboratory.intrinsic+json": {
              "type": "string"
            }
          },
          "metadata": {},
          "execution_count": 100
        }
      ],
      "source": [
        "from langchain_core.prompts import ChatPromptTemplate\n",
        "\n",
        "prompt = ChatPromptTemplate.from_messages([\n",
        "    (\"system\", \"你是一名新闻记者，很熟悉最近的重大新闻事件。\"),\n",
        "    (\"user\", \"{input}\")\n",
        "])\n",
        "\n",
        "chain = prompt | llm\n",
        "\n",
        "chain.invoke({\"input\": \"在2024年，特朗普在竞选集会现场遭到枪击，请问发生在哪个地点？\"})"
      ]
    },
    {
      "cell_type": "code",
      "execution_count": 101,
      "metadata": {
        "colab": {
          "base_uri": "https://localhost:8080/",
          "height": 42
        },
        "id": "jxP1txWw-BnU",
        "outputId": "631d89d0-66bc-4823-9a78-9a4822326851"
      },
      "outputs": [
        {
          "output_type": "execute_result",
          "data": {
            "text/plain": [
              "'我无法提供有关2024年美国总统竞选集会现场枪击的信息。我推荐您查询相关新闻或其他可靠的新闻来源。'"
            ],
            "application/vnd.google.colaboratory.intrinsic+json": {
              "type": "string"
            }
          },
          "metadata": {},
          "execution_count": 101
        }
      ],
      "source": [
        "from langchain_core.output_parsers import StrOutputParser\n",
        "\n",
        "output_parser = StrOutputParser()\n",
        "\n",
        "chain = prompt | llm | output_parser\n",
        "\n",
        "chain.invoke({\"input\": \"在2024年，特朗普在竞选集会现场遭到枪击，请问发生在哪个地点？\"})"
      ]
    },
    {
      "cell_type": "markdown",
      "metadata": {
        "id": "UnAss5_Mq20r"
      },
      "source": [
        "## RAG Retrieval Chain"
      ]
    },
    {
      "cell_type": "code",
      "execution_count": 102,
      "metadata": {
        "colab": {
          "base_uri": "https://localhost:8080/"
        },
        "id": "5XU4dEJT_CPn",
        "outputId": "2dd9b2f8-8306-4930-8cbb-a6f9a597bc11"
      },
      "outputs": [
        {
          "output_type": "stream",
          "name": "stdout",
          "text": [
            "2024年，特朗普在宾夕法尼亚州巴特勒市的竞选集会现场遭到枪击。\n"
          ]
        }
      ],
      "source": [
        "from langchain_community.document_loaders import WebBaseLoader\n",
        "from langchain_community.embeddings import OllamaEmbeddings\n",
        "from langchain_community.vectorstores import FAISS\n",
        "from langchain_text_splitters import RecursiveCharacterTextSplitter\n",
        "\n",
        "loader = WebBaseLoader(\"https://www.thepaper.cn/newsDetail_forward_28067225\")\n",
        "docs = loader.load()\n",
        "\n",
        "embeddings = OllamaEmbeddings(model=\"gemma:2b\")\n",
        "text_splitter = RecursiveCharacterTextSplitter(chunk_size=500, chunk_overlap=100, add_start_index=True)\n",
        "documents = text_splitter.split_documents(docs)\n",
        "vector = FAISS.from_documents(documents, embeddings)\n",
        "retriever = vector.as_retriever()\n",
        "\n",
        "llm = Ollama(model=\"gemma:2b\")\n",
        "\n",
        "prompt = ChatPromptTemplate.from_template(\n",
        "    \"\"\"根据上下文的信息，回答指定问题:\n",
        "    <context>\n",
        "    {context}\n",
        "    </context>\n",
        "    Question: {input}\n",
        "    \"\"\")\n",
        "\n",
        "from langchain.chains.combine_documents import create_stuff_documents_chain\n",
        "document_chain = create_stuff_documents_chain(llm, prompt)\n",
        "\n",
        "from langchain.chains import create_retrieval_chain\n",
        "retrieval_chain = create_retrieval_chain(retriever, document_chain)\n",
        "\n",
        "response = retrieval_chain.invoke(\n",
        "    {\"input\": \"在2024年，特朗普在竞选集会现场遭到枪击，请问发生在哪个地点？\"})\n",
        "\n",
        "print(response[\"answer\"])"
      ]
    },
    {
      "cell_type": "code",
      "source": [
        "response = retrieval_chain.invoke(\n",
        "    {\"input\": \"拜登竞选团队在枪击事件后怎么做？\"})\n",
        "\n",
        "print(response[\"answer\"])"
      ],
      "metadata": {
        "id": "gDIJ-binmg9G",
        "outputId": "fd2e177e-f811-4e19-e59a-ce90e5afc32b",
        "colab": {
          "base_uri": "https://localhost:8080/"
        }
      },
      "execution_count": 103,
      "outputs": [
        {
          "output_type": "stream",
          "name": "stdout",
          "text": [
            "根据上下文信息，拜登竞选团队在枪击事件后暂停所有外出活动，并尽快撤下所有的电视竞选广告。\n"
          ]
        }
      ]
    },
    {
      "cell_type": "markdown",
      "metadata": {
        "id": "gv0pH4B6q20u"
      },
      "source": [
        "## Conversation Retrieval Chain"
      ]
    },
    {
      "cell_type": "code",
      "execution_count": 104,
      "metadata": {
        "id": "LYn14W1QZeJE"
      },
      "outputs": [],
      "source": [
        "from langchain_core.prompts import MessagesPlaceholder\n",
        "\n",
        "from langchain_core.messages import HumanMessage, AIMessage\n"
      ]
    },
    {
      "cell_type": "code",
      "execution_count": 105,
      "metadata": {
        "colab": {
          "base_uri": "https://localhost:8080/"
        },
        "id": "bpI5QSBbC3x7",
        "outputId": "a682488e-c1f7-4c1c-bd53-ab26175d5afb"
      },
      "outputs": [
        {
          "output_type": "stream",
          "name": "stdout",
          "text": [
            "2024年，特朗普在宾夕法尼亚州巴特勒市的竞选集会现场遭到枪击。\n"
          ]
        }
      ],
      "source": [
        "# Answer the user's questions\n",
        "\n",
        "prompt = ChatPromptTemplate.from_messages([\n",
        "    MessagesPlaceholder(variable_name=\"chat_history\"),\n",
        "    (\"user\", \"{input}\"),\n",
        "    (\"system\", \"根据上下文的信息，回答指定问题：\\n\\n{context}\"),\n",
        "])\n",
        "\n",
        "llm = Ollama(model=\"gemma:2b\")\n",
        "\n",
        "document_chain = create_stuff_documents_chain(llm, prompt)\n",
        "\n",
        "retrieval_chain = create_retrieval_chain(retriever, document_chain)\n",
        "\n",
        "chat_history = [\n",
        "    HumanMessage(content=\"在2024年，特朗普在竞选集会现场遭到枪击，请问发生在哪个地点？\"),\n",
        "    AIMessage(content=\"2024年，特朗普在宾夕法尼亚州巴特勒市的竞选集会现场遭到枪击。\")\n",
        "]\n",
        "\n",
        "response = retrieval_chain.invoke({\n",
        "    \"chat_history\": chat_history,\n",
        "    \"input\": \"刺杀特朗普的凶手是谁？\"\n",
        "})\n",
        "\n",
        "print(response[\"answer\"])"
      ]
    },
    {
      "cell_type": "code",
      "execution_count": null,
      "metadata": {
        "id": "-M4aosA5uQ2e"
      },
      "outputs": [],
      "source": []
    },
    {
      "cell_type": "code",
      "execution_count": null,
      "metadata": {
        "id": "4e-UKD6suQ4u"
      },
      "outputs": [],
      "source": []
    }
  ],
  "metadata": {
    "accelerator": "GPU",
    "colab": {
      "gpuType": "T4",
      "provenance": []
    },
    "kernelspec": {
      "display_name": "Python 3 (ipykernel)",
      "language": "python",
      "name": "python3"
    },
    "language_info": {
      "codemirror_mode": {
        "name": "ipython",
        "version": 3
      },
      "file_extension": ".py",
      "mimetype": "text/x-python",
      "name": "python",
      "nbconvert_exporter": "python",
      "pygments_lexer": "ipython3",
      "version": "3.9.12"
    }
  },
  "nbformat": 4,
  "nbformat_minor": 0
}