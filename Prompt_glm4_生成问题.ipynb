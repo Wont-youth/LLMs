{
 "cells": [
  {
   "cell_type": "code",
   "execution_count": 1,
   "metadata": {},
   "outputs": [
    {
     "name": "stdout",
     "output_type": "stream",
     "text": [
      "CompletionMessage(content=\"What was the acceptance rate for Notre Dame's incoming class of fall 2015?\", role='assistant', tool_calls=None)\n"
     ]
    }
   ],
   "source": [
    "from zhipuai import ZhipuAI\n",
    "\n",
    "client = ZhipuAI(api_key=\"your api key\") \n",
    "\n",
    "context = \"Notre Dame is known for its competitive admissions, with the incoming class enrolling in fall 2015 admitting 3,577 from a pool of 18,156 (19.7%). The academic profile of the enrolled class continues to rate among the top 10 to 15 in the nation for national research universities. The university practices a non-restrictive early action policy that allows admitted students to consider admission to Notre Dame as well as any other colleges to which they were accepted. 1,400 of the 3,577 (39.1%) were admitted under the early action plan. Admitted students came from 1,311 high schools and the average student traveled more than 750 miles to Notre Dame, making it arguably the most representative university in the United States. While all entering students begin in the College of the First Year of Studies, 25% have indicated they plan to study in the liberal arts or social sciences, 24% in engineering, 24% in business, 24% in science, and 3% in architecture.\"\n",
    "answer = \"19.7%\"\n",
    "\n",
    "response = client.chat.completions.create(\n",
    "\n",
    "  model=\"glm-4\", \n",
    "  \n",
    "  messages=[\n",
    "        {\"role\": \"user\", \n",
    "         \"content\": f\"\"\"\n",
    "Given the following context and an certain answer,\n",
    "please generate a certain question corresponding to the context and the answer:\n",
    "Context: {context}.\n",
    "Answer: {answer}.\n",
    "Question:\n",
    "\"\"\"\n",
    "}],\n",
    ")\n",
    "\n",
    "print(response.choices[0].message)"
   ]
  },
  {
   "cell_type": "markdown",
   "metadata": {},
   "source": [
    "Original question: \n",
    "\n",
    "What percentage of students were admitted to Notre Dame in fall 2015?\n",
    "\n",
    "Generated question: \n",
    "\n",
    "What was the acceptance rate for Notre Dame's incoming class of fall 2015?"
   ]
  },
  {
   "cell_type": "code",
   "execution_count": 2,
   "metadata": {},
   "outputs": [
    {
     "name": "stdout",
     "output_type": "stream",
     "text": [
      "CompletionMessage(content='In what year did Bishop of Vincennes offer land to Father Edward Sorin for the purpose of building a college?', role='assistant', tool_calls=None)\n"
     ]
    }
   ],
   "source": [
    "context = \"In 1842, the Bishop of Vincennes, Célestine Guynemer de la Hailandière, offered land to Father Edward Sorin of the Congregation of the Holy Cross, on the condition that he build a college in two years. Fr. Sorin arrived on the site with eight Holy Cross brothers from France and Ireland on November 26, 1842, and began the school using Father Stephen Badin's old log chapel. He soon erected additional buildings, including Old College, the first church, and the first main building. They immediately acquired two students and set about building additions to the campus.\"\n",
    "answer = \"1842\"\n",
    "\n",
    "response = client.chat.completions.create(\n",
    "\n",
    "  model=\"glm-4\", \n",
    "  \n",
    "  messages=[\n",
    "        {\"role\": \"user\", \n",
    "         \"content\": f\"\"\"\n",
    "Given the following context and an certain answer,\n",
    "please generate a certain question corresponding to the context and the answer:\n",
    "Context: {context}.\n",
    "Answer: {answer}.\n",
    "Question:\n",
    "\"\"\"\n",
    "}],\n",
    ")\n",
    "\n",
    "print(response.choices[0].message)"
   ]
  },
  {
   "cell_type": "markdown",
   "metadata": {},
   "source": [
    "Original question: \n",
    "\n",
    "In what year was Father Edward Sorin given two years to create a college?\n",
    "\n",
    "Generated question: \n",
    "\n",
    "In what year did Bishop of Vincennes offer land to Father Edward Sorin for the purpose of building a college?"
   ]
  }
 ],
 "metadata": {
  "kernelspec": {
   "display_name": "base",
   "language": "python",
   "name": "python3"
  },
  "language_info": {
   "codemirror_mode": {
    "name": "ipython",
    "version": 3
   },
   "file_extension": ".py",
   "mimetype": "text/x-python",
   "name": "python",
   "nbconvert_exporter": "python",
   "pygments_lexer": "ipython3",
   "version": "3.9.12"
  }
 },
 "nbformat": 4,
 "nbformat_minor": 2
}
